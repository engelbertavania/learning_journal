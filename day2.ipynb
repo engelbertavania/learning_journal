{
 "cells": [
  {
   "cell_type": "code",
   "execution_count": 1,
   "metadata": {},
   "outputs": [
    {
     "data": {
      "text/plain": [
       "2"
      ]
     },
     "execution_count": 1,
     "metadata": {},
     "output_type": "execute_result"
    }
   ],
   "source": [
    "1+1"
   ]
  },
  {
   "cell_type": "code",
   "execution_count": 2,
   "metadata": {},
   "outputs": [
    {
     "name": "stdout",
     "output_type": "stream",
     "text": [
      "15\n"
     ]
    }
   ],
   "source": [
    "angka = 15\n",
    "print(angka)"
   ]
  },
  {
   "cell_type": "code",
   "execution_count": 12,
   "metadata": {},
   "outputs": [
    {
     "data": {
      "text/plain": [
       "False"
      ]
     },
     "execution_count": 12,
     "metadata": {},
     "output_type": "execute_result"
    }
   ],
   "source": [
    "angka = 15\n",
    "angka == 5"
   ]
  },
  {
   "cell_type": "code",
   "execution_count": 5,
   "metadata": {},
   "outputs": [
    {
     "data": {
      "text/plain": [
       "False"
      ]
     },
     "execution_count": 5,
     "metadata": {},
     "output_type": "execute_result"
    }
   ],
   "source": [
    "angka==10"
   ]
  },
  {
   "cell_type": "code",
   "execution_count": 6,
   "metadata": {},
   "outputs": [
    {
     "name": "stdout",
     "output_type": "stream",
     "text": [
      "5 lebih besar dari 10\n"
     ]
    }
   ],
   "source": [
    "print(f'{angka} lebih besar dari 10')"
   ]
  },
  {
   "cell_type": "code",
   "execution_count": 18,
   "metadata": {},
   "outputs": [
    {
     "name": "stdout",
     "output_type": "stream",
     "text": [
      "11 lebih besar dari 10\n",
      "yhu\n"
     ]
    }
   ],
   "source": [
    "angka=11\n",
    "if angka>10:\n",
    "    print(f'{angka} lebih besar dari 10')\n",
    "    print('yhu')\n",
    "elif angka==10:\n",
    "    print(f'{angka} sama dengan 10')\n",
    "else:\n",
    "    print(f'{angka} lebih kecil dari 10')"
   ]
  },
  {
   "cell_type": "code",
   "execution_count": 15,
   "metadata": {},
   "outputs": [
    {
     "name": "stdout",
     "output_type": "stream",
     "text": [
      "15 ganjil\n"
     ]
    }
   ],
   "source": [
    "if angka%2==0:\n",
    "    print(f'{angka} genap')\n",
    "else:\n",
    "    print(f'{angka} ganjil')"
   ]
  },
  {
   "cell_type": "code",
   "execution_count": 19,
   "metadata": {},
   "outputs": [],
   "source": [
    "menu=[\"nasi goreng\",\n",
    "        \"mie ayam\",\n",
    "        \"soto ayam\",\n",
    "        \"ayam penyet\"]\n"
   ]
  },
  {
   "cell_type": "code",
   "execution_count": 21,
   "metadata": {},
   "outputs": [
    {
     "data": {
      "text/plain": [
       "False"
      ]
     },
     "execution_count": 21,
     "metadata": {},
     "output_type": "execute_result"
    }
   ],
   "source": [
    "\"nasi kuning\" in menu"
   ]
  },
  {
   "cell_type": "code",
   "execution_count": 22,
   "metadata": {},
   "outputs": [
    {
     "name": "stdout",
     "output_type": "stream",
     "text": [
      "ga jual bakmi\n"
     ]
    }
   ],
   "source": [
    "makanan='bakmi'\n",
    "if makanan in menu:\n",
    "    print(f'jual {makanan}')\n",
    "else:\n",
    "    print(f'ga jual {makanan}')"
   ]
  },
  {
   "cell_type": "code",
   "execution_count": 23,
   "metadata": {},
   "outputs": [],
   "source": [
    "buah=('jeruk', 'pisang', 'pepaya', 'mangga')\n"
   ]
  },
  {
   "cell_type": "code",
   "execution_count": 24,
   "metadata": {},
   "outputs": [
    {
     "data": {
      "text/plain": [
       "4"
      ]
     },
     "execution_count": 24,
     "metadata": {},
     "output_type": "execute_result"
    }
   ],
   "source": [
    "len(buah)"
   ]
  },
  {
   "cell_type": "code",
   "execution_count": 26,
   "metadata": {},
   "outputs": [
    {
     "name": "stdout",
     "output_type": "stream",
     "text": [
      "beli jeruk\n"
     ]
    }
   ],
   "source": [
    "if len(buah)>=3:\n",
    "    if 'jeruk' in buah:\n",
    "        print('beli jeruk')\n",
    "    else:\n",
    "        print('mampir')\n",
    "else:\n",
    "    print('skip')"
   ]
  },
  {
   "cell_type": "code",
   "execution_count": 27,
   "metadata": {},
   "outputs": [
    {
     "name": "stdout",
     "output_type": "stream",
     "text": [
      "belajar lagi\n"
     ]
    }
   ],
   "source": [
    "nilai_bahasa=70\n",
    "nilai_matematika=80\n",
    "if nilai_matematika >70:\n",
    "    if nilai_bahasa<75:\n",
    "        print('belajar lagi')\n",
    "    else:\n",
    "        print('mantap')\n",
    "else:\n",
    "    print('hadeh')"
   ]
  },
  {
   "cell_type": "code",
   "execution_count": 28,
   "metadata": {},
   "outputs": [
    {
     "name": "stdout",
     "output_type": "stream",
     "text": [
      "mampir\n"
     ]
    }
   ],
   "source": [
    "if 'jeruk' in buah and 'mangga' in buah:\n",
    "    print('mampir')\n",
    "else:\n",
    "    print('skip')"
   ]
  },
  {
   "cell_type": "code",
   "execution_count": 29,
   "metadata": {},
   "outputs": [
    {
     "name": "stdout",
     "output_type": "stream",
     "text": [
      "hai\n",
      "hai\n",
      "loop end\n"
     ]
    }
   ],
   "source": [
    "n=5\n",
    "while n>0:\n",
    "    n-=1\n",
    "    if n==2:\n",
    "        break\n",
    "    print('hai')\n",
    "print('loop end')"
   ]
  },
  {
   "cell_type": "code",
   "execution_count": 34,
   "metadata": {},
   "outputs": [
    {
     "name": "stdout",
     "output_type": "stream",
     "text": [
      "invalid\n"
     ]
    }
   ],
   "source": [
    "nilai = 101\n",
    "\n",
    "if nilai> 100 or nilai <0:\n",
    "    print('invalid')\n",
    "elif 85<= nilai <= 100:\n",
    "    print('A')\n",
    "elif 65 <= nilai <85:\n",
    "    print('B')\n",
    "elif 40<=nilai < 65:\n",
    "    print('C')\n",
    "elif 20<=nilai<40:\n",
    "    print('D')\n",
    "else:\n",
    "    print('E')"
   ]
  },
  {
   "cell_type": "code",
   "execution_count": 35,
   "metadata": {},
   "outputs": [
    {
     "name": "stdout",
     "output_type": "stream",
     "text": [
      "B\n"
     ]
    }
   ],
   "source": [
    "angka = 30\n",
    "if angka >= 0 and angka <=100:\n",
    "    if angka >= 80:\n",
    "        print('A')\n",
    "    elif angka >- 65:\n",
    "        print('B')\n",
    "    elif angka >= 40:\n",
    "        print('C')\n",
    "    elif angka >= 20:\n",
    "        print('D')\n",
    "    else:\n",
    "        print('E')\n",
    "else:\n",
    "    print('invalid')"
   ]
  },
  {
   "cell_type": "code",
   "execution_count": 45,
   "metadata": {},
   "outputs": [
    {
     "name": "stdout",
     "output_type": "stream",
     "text": [
      "ehem\n",
      "loop end\n"
     ]
    }
   ],
   "source": [
    "n=5\n",
    "while n>6:\n",
    "    n-=1\n",
    "    if n==2:\n",
    "        break\n",
    "    print('hai')\n",
    "else:\n",
    "    print('ehem')\n",
    "print('loop end')\n"
   ]
  },
  {
   "cell_type": "code",
   "execution_count": 50,
   "metadata": {},
   "outputs": [],
   "source": [
    "angka = input('masukan angka: ')\n",
    "angka = float(angka)"
   ]
  },
  {
   "cell_type": "code",
   "execution_count": 52,
   "metadata": {},
   "outputs": [
    {
     "name": "stdout",
     "output_type": "stream",
     "text": [
      "80.0\n",
      "A\n"
     ]
    }
   ],
   "source": [
    "print(angka)\n",
    "if angka >= 0 and angka <=100:\n",
    "    if angka >= 80:\n",
    "        print('A')\n",
    "    elif angka >- 65:\n",
    "        print('B')\n",
    "    elif angka >= 40:\n",
    "        print('C')\n",
    "    elif angka >= 20:\n",
    "        print('D')\n",
    "    else:\n",
    "        print('E')\n",
    "else:\n",
    "    print('invalid')"
   ]
  },
  {
   "cell_type": "code",
   "execution_count": 53,
   "metadata": {},
   "outputs": [
    {
     "name": "stdout",
     "output_type": "stream",
     "text": [
      "foo\n",
      "> quzz\n",
      "> az\n",
      "bar\n",
      "> quzz\n",
      "> az\n",
      "end loop\n"
     ]
    }
   ],
   "source": [
    "a=['foo', 'bar']\n",
    "while len(a):\n",
    "    print(a.pop(0))\n",
    "    b=['quzz', 'az']\n",
    "    while len(b):\n",
    "        print('>',b.pop(0))\n",
    "print('end loop')"
   ]
  },
  {
   "cell_type": "code",
   "execution_count": 55,
   "metadata": {},
   "outputs": [],
   "source": [
    "while False:\n",
    "    print('hallo')"
   ]
  },
  {
   "cell_type": "code",
   "execution_count": 56,
   "metadata": {},
   "outputs": [
    {
     "name": "stdout",
     "output_type": "stream",
     "text": [
      "hai\n",
      "hai\n",
      "loop end\n"
     ]
    }
   ],
   "source": [
    "n=5\n",
    "while n>0:\n",
    "    n-=1\n",
    "    if n==2:\n",
    "        break\n",
    "    print('hai')\n",
    "print('loop end')"
   ]
  },
  {
   "cell_type": "code",
   "execution_count": 57,
   "metadata": {},
   "outputs": [
    {
     "name": "stdout",
     "output_type": "stream",
     "text": [
      "ehem\n",
      "loop end\n"
     ]
    }
   ],
   "source": [
    "n=5\n",
    "while n>6:\n",
    "    n-=1\n",
    "    if n==2:\n",
    "        break\n",
    "    print('hai')\n",
    "else:\n",
    "    print('ehem')\n",
    "print('loop end')\n"
   ]
  },
  {
   "cell_type": "code",
   "execution_count": 58,
   "metadata": {},
   "outputs": [
    {
     "name": "stdout",
     "output_type": "stream",
     "text": [
      "foo\n",
      "> quzz\n",
      "> az\n",
      "bar\n",
      "> quzz\n",
      "> az\n",
      "end loop\n"
     ]
    }
   ],
   "source": [
    "a=['foo', 'bar']\n",
    "while len(a):\n",
    "    print(a.pop(0))\n",
    "    b=['quzz', 'az']\n",
    "    while len(b):\n",
    "        print('>',b.pop(0))\n",
    "print('end loop')"
   ]
  },
  {
   "cell_type": "code",
   "execution_count": 59,
   "metadata": {},
   "outputs": [
    {
     "name": "stdout",
     "output_type": "stream",
     "text": [
      "i ke:0\n",
      "hallo\n",
      "i ke:1\n",
      "hallo\n",
      "i ke:2\n",
      "hallo\n",
      "i ke:3\n",
      "hallo\n",
      "i ke:4\n",
      "hallo\n"
     ]
    }
   ],
   "source": [
    "i=0\n",
    "while i<5:\n",
    "    print(f'i ke:{i}')\n",
    "    print('hallo')\n",
    "    i=i+1"
   ]
  },
  {
   "cell_type": "code",
   "execution_count": 60,
   "metadata": {},
   "outputs": [],
   "source": [
    "pesanan =[]\n",
    "pesan = ''\n",
    "while pesan!= 'cukup':\n",
    "    pesan = input('masukan pesanan anda')\n",
    "    if pesan != 'cukup':\n",
    "        pesanan.append(pesan)"
   ]
  },
  {
   "cell_type": "code",
   "execution_count": 61,
   "metadata": {},
   "outputs": [
    {
     "data": {
      "text/plain": [
       "['ayam', 'mi', 'es jeruk']"
      ]
     },
     "execution_count": 61,
     "metadata": {},
     "output_type": "execute_result"
    }
   ],
   "source": [
    "pesanan"
   ]
  },
  {
   "cell_type": "code",
   "execution_count": 65,
   "metadata": {},
   "outputs": [
    {
     "ename": "SyntaxError",
     "evalue": "invalid syntax (<ipython-input-65-25359b609218>, line 5)",
     "output_type": "error",
     "traceback": [
      "\u001b[0;36m  File \u001b[0;32m\"<ipython-input-65-25359b609218>\"\u001b[0;36m, line \u001b[0;32m5\u001b[0m\n\u001b[0;31m    print('*'50)\u001b[0m\n\u001b[0m             ^\u001b[0m\n\u001b[0;31mSyntaxError\u001b[0m\u001b[0;31m:\u001b[0m invalid syntax\n"
     ]
    }
   ],
   "source": [
    "i=1\n",
    "while i <=10:\n",
    "    print(f'7 x{i} = {7*i}')\n",
    "    i=i+1\n",
    "    print('*'50)"
   ]
  },
  {
   "cell_type": "code",
   "execution_count": 69,
   "metadata": {},
   "outputs": [
    {
     "name": "stdout",
     "output_type": "stream",
     "text": [
      "1 x 1=1\n",
      "1 x 2=2\n",
      "1 x 3=3\n",
      "1 x 4=4\n",
      "1 x 5=5\n",
      "1 x 6=6\n",
      "1 x 7=7\n",
      "1 x 8=8\n",
      "1 x 9=9\n",
      "1 x 10=10\n",
      "*\n",
      "2 x 1=2\n",
      "2 x 2=4\n",
      "2 x 3=6\n",
      "2 x 4=8\n",
      "2 x 5=10\n",
      "2 x 6=12\n",
      "2 x 7=14\n",
      "2 x 8=16\n",
      "2 x 9=18\n",
      "2 x 10=20\n",
      "*\n",
      "3 x 1=3\n",
      "3 x 2=6\n",
      "3 x 3=9\n",
      "3 x 4=12\n",
      "3 x 5=15\n",
      "3 x 6=18\n",
      "3 x 7=21\n",
      "3 x 8=24\n",
      "3 x 9=27\n",
      "3 x 10=30\n",
      "*\n",
      "4 x 1=4\n",
      "4 x 2=8\n",
      "4 x 3=12\n",
      "4 x 4=16\n",
      "4 x 5=20\n",
      "4 x 6=24\n",
      "4 x 7=28\n",
      "4 x 8=32\n",
      "4 x 9=36\n",
      "4 x 10=40\n",
      "*\n",
      "5 x 1=5\n",
      "5 x 2=10\n",
      "5 x 3=15\n",
      "5 x 4=20\n",
      "5 x 5=25\n",
      "5 x 6=30\n",
      "5 x 7=35\n",
      "5 x 8=40\n",
      "5 x 9=45\n",
      "5 x 10=50\n",
      "*\n",
      "6 x 1=6\n",
      "6 x 2=12\n",
      "6 x 3=18\n",
      "6 x 4=24\n",
      "6 x 5=30\n",
      "6 x 6=36\n",
      "6 x 7=42\n",
      "6 x 8=48\n",
      "6 x 9=54\n",
      "6 x 10=60\n",
      "*\n",
      "7 x 1=7\n",
      "7 x 2=14\n",
      "7 x 3=21\n",
      "7 x 4=28\n",
      "7 x 5=35\n",
      "7 x 6=42\n",
      "7 x 7=49\n",
      "7 x 8=56\n",
      "7 x 9=63\n",
      "7 x 10=70\n",
      "*\n",
      "8 x 1=8\n",
      "8 x 2=16\n",
      "8 x 3=24\n",
      "8 x 4=32\n",
      "8 x 5=40\n",
      "8 x 6=48\n",
      "8 x 7=56\n",
      "8 x 8=64\n",
      "8 x 9=72\n",
      "8 x 10=80\n",
      "*\n",
      "9 x 1=9\n",
      "9 x 2=18\n",
      "9 x 3=27\n",
      "9 x 4=36\n",
      "9 x 5=45\n",
      "9 x 6=54\n",
      "9 x 7=63\n",
      "9 x 8=72\n",
      "9 x 9=81\n",
      "9 x 10=90\n",
      "*\n",
      "10 x 1=10\n",
      "10 x 2=20\n",
      "10 x 3=30\n",
      "10 x 4=40\n",
      "10 x 5=50\n",
      "10 x 6=60\n",
      "10 x 7=70\n",
      "10 x 8=80\n",
      "10 x 9=90\n",
      "10 x 10=100\n",
      "*\n"
     ]
    }
   ],
   "source": [
    "i=1\n",
    "j=1\n",
    "while j <=10:\n",
    "    while i<=10:\n",
    "        print(f'{j} x {i}={j*i}')\n",
    "        i=i+1\n",
    "    j=j+1\n",
    "    i=1\n",
    "    print('*')"
   ]
  },
  {
   "cell_type": "code",
   "execution_count": 71,
   "metadata": {},
   "outputs": [
    {
     "data": {
      "text/plain": [
       "'jeruk'"
      ]
     },
     "execution_count": 71,
     "metadata": {},
     "output_type": "execute_result"
    }
   ],
   "source": [
    "buah[-4]"
   ]
  },
  {
   "cell_type": "code",
   "execution_count": 72,
   "metadata": {},
   "outputs": [
    {
     "data": {
      "text/plain": [
       "4"
      ]
     },
     "execution_count": 72,
     "metadata": {},
     "output_type": "execute_result"
    }
   ],
   "source": [
    "len(buah)"
   ]
  },
  {
   "cell_type": "code",
   "execution_count": 74,
   "metadata": {},
   "outputs": [
    {
     "name": "stdout",
     "output_type": "stream",
     "text": [
      "jual jeruk\n",
      "jual pisang\n",
      "jual pepaya\n",
      "jual mangga\n"
     ]
    }
   ],
   "source": [
    "i=0\n",
    "while i< len(buah):\n",
    "    print(f'jual {buah[i]}')\n",
    "    i=i+1"
   ]
  },
  {
   "cell_type": "code",
   "execution_count": 76,
   "metadata": {},
   "outputs": [
    {
     "name": "stdout",
     "output_type": "stream",
     "text": [
      "jual jeruk\n",
      "jual pisang\n",
      "jual pepaya\n",
      "jual mangga\n"
     ]
    }
   ],
   "source": [
    "for buah_buahan in buah:\n",
    "    print(f'jual {buah_buahan}')"
   ]
  },
  {
   "cell_type": "code",
   "execution_count": 77,
   "metadata": {},
   "outputs": [
    {
     "data": {
      "text/plain": [
       "[1, 3, 5, 7, 9, 11, 13, 15, 17]"
      ]
     },
     "execution_count": 77,
     "metadata": {},
     "output_type": "execute_result"
    }
   ],
   "source": [
    "list(range(1,18,2))"
   ]
  },
  {
   "cell_type": "code",
   "execution_count": 79,
   "metadata": {},
   "outputs": [
    {
     "name": "stdout",
     "output_type": "stream",
     "text": [
      "buah jualjeruk\n",
      "buah jualpisang\n",
      "buah jualpepaya\n",
      "buah jualmangga\n"
     ]
    }
   ],
   "source": [
    "for i in range(len(buah)):\n",
    "    print(f'buah jual{buah[i]}')"
   ]
  },
  {
   "cell_type": "code",
   "execution_count": 80,
   "metadata": {},
   "outputs": [
    {
     "name": "stdout",
     "output_type": "stream",
     "text": [
      "7 x 1 = 7\n",
      "7 x 2 = 14\n",
      "7 x 3 = 21\n",
      "7 x 4 = 28\n",
      "7 x 5 = 35\n",
      "7 x 6 = 42\n",
      "7 x 7 = 49\n",
      "7 x 8 = 56\n",
      "7 x 9 = 63\n",
      "7 x 10 = 70\n"
     ]
    }
   ],
   "source": [
    "for i in range(1,11):\n",
    "    print(f'7 x {i} = {7*i}')"
   ]
  },
  {
   "cell_type": "code",
   "execution_count": 81,
   "metadata": {},
   "outputs": [
    {
     "name": "stdout",
     "output_type": "stream",
     "text": [
      "1x1=1\n",
      "1x2=2\n",
      "1x3=3\n",
      "1x4=4\n",
      "1x5=5\n",
      "1x6=6\n",
      "1x7=7\n",
      "1x8=8\n",
      "1x9=9\n",
      "1x10=10\n",
      "*****\n",
      "2x1=2\n",
      "2x2=4\n",
      "2x3=6\n",
      "2x4=8\n",
      "2x5=10\n",
      "2x6=12\n",
      "2x7=14\n",
      "2x8=16\n",
      "2x9=18\n",
      "2x10=20\n",
      "*****\n",
      "3x1=3\n",
      "3x2=6\n",
      "3x3=9\n",
      "3x4=12\n",
      "3x5=15\n",
      "3x6=18\n",
      "3x7=21\n",
      "3x8=24\n",
      "3x9=27\n",
      "3x10=30\n",
      "*****\n",
      "4x1=4\n",
      "4x2=8\n",
      "4x3=12\n",
      "4x4=16\n",
      "4x5=20\n",
      "4x6=24\n",
      "4x7=28\n",
      "4x8=32\n",
      "4x9=36\n",
      "4x10=40\n",
      "*****\n",
      "5x1=5\n",
      "5x2=10\n",
      "5x3=15\n",
      "5x4=20\n",
      "5x5=25\n",
      "5x6=30\n",
      "5x7=35\n",
      "5x8=40\n",
      "5x9=45\n",
      "5x10=50\n",
      "*****\n",
      "6x1=6\n",
      "6x2=12\n",
      "6x3=18\n",
      "6x4=24\n",
      "6x5=30\n",
      "6x6=36\n",
      "6x7=42\n",
      "6x8=48\n",
      "6x9=54\n",
      "6x10=60\n",
      "*****\n",
      "7x1=7\n",
      "7x2=14\n",
      "7x3=21\n",
      "7x4=28\n",
      "7x5=35\n",
      "7x6=42\n",
      "7x7=49\n",
      "7x8=56\n",
      "7x9=63\n",
      "7x10=70\n",
      "*****\n",
      "8x1=8\n",
      "8x2=16\n",
      "8x3=24\n",
      "8x4=32\n",
      "8x5=40\n",
      "8x6=48\n",
      "8x7=56\n",
      "8x8=64\n",
      "8x9=72\n",
      "8x10=80\n",
      "*****\n",
      "9x1=9\n",
      "9x2=18\n",
      "9x3=27\n",
      "9x4=36\n",
      "9x5=45\n",
      "9x6=54\n",
      "9x7=63\n",
      "9x8=72\n",
      "9x9=81\n",
      "9x10=90\n",
      "*****\n",
      "10x1=10\n",
      "10x2=20\n",
      "10x3=30\n",
      "10x4=40\n",
      "10x5=50\n",
      "10x6=60\n",
      "10x7=70\n",
      "10x8=80\n",
      "10x9=90\n",
      "10x10=100\n",
      "*****\n"
     ]
    }
   ],
   "source": [
    "for j in range(1,11):\n",
    "    for i in range(1,11):\n",
    "        print(f'{j}x{i}={j*i}')\n",
    "    print('*'*5)"
   ]
  },
  {
   "cell_type": "code",
   "execution_count": null,
   "metadata": {},
   "outputs": [],
   "source": []
  }
 ],
 "metadata": {
  "interpreter": {
   "hash": "4181d9fb328bbf166f466aa6f04f4e3166fb024a3cd60775f70be704a670e92b"
  },
  "kernelspec": {
   "display_name": "Python 3.8.8 ('base')",
   "language": "python",
   "name": "python3"
  },
  "language_info": {
   "codemirror_mode": {
    "name": "ipython",
    "version": 3
   },
   "file_extension": ".py",
   "mimetype": "text/x-python",
   "name": "python",
   "nbconvert_exporter": "python",
   "pygments_lexer": "ipython3",
   "version": "3.8.8"
  },
  "orig_nbformat": 4
 },
 "nbformat": 4,
 "nbformat_minor": 2
}
