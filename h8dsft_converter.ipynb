{
 "cells": [
  {
   "cell_type": "code",
   "execution_count": 66,
   "metadata": {},
   "outputs": [],
   "source": [
    "def convert_temperature(temp:tuple): #membuat fungsi converter temperature\n",
    "    result=0   #init variable\n",
    "    if temp[1] == \"c\": #fungsi yang berlaku kalau suhu celcius(c)\n",
    "        result=(temp[0]+273.15,'k') #hasil yang didapat kalau suhu celcius(c)\n",
    "    if temp[1] == \"k\": #fungsi yang berlaku kalau suhu kelvin(k)\n",
    "        result=(temp[0]-273.15,'c') #hasil yang didapat kalau suhu kelvin (k)\n",
    "    return result   #deklarasi hasil"
   ]
  },
  {
   "cell_type": "code",
   "execution_count": 67,
   "metadata": {},
   "outputs": [
    {
     "data": {
      "text/plain": [
       "(-153.14999999999998, 'c')"
      ]
     },
     "execution_count": 67,
     "metadata": {},
     "output_type": "execute_result"
    }
   ],
   "source": [
    "convert_temperature((120, 'k'))   #contoh memanggil fungsi"
   ]
  },
  {
   "cell_type": "code",
   "execution_count": 43,
   "metadata": {},
   "outputs": [
    {
     "name": "stdout",
     "output_type": "stream",
     "text": [
      "suhu dalam farenheit:  212.0\n"
     ]
    }
   ],
   "source": [
    "def convert_to_Fahrenheit(value,temp):  #fungsi untuk convert suhu ke fahrenheit\n",
    "    result=0    #init variable\n",
    "    if temp=='c':   #fungsi yang berlaku kalau suhu celcius(c)\n",
    "        result=(value*9/5)+32   #hasil yang didapat kalau suhu celcius(c)\n",
    "    if temp=='k':   #fungsi yang berlaku kalau suhu kelvin(k)\n",
    "        result=(value-273.15)*9/5+32    #hasil yang didapat kalau suhu kelvin (k)\n",
    "    return result   #deklarasi hasil\n",
    "print('suhu dalam farenheit: ', convert_to_Fahrenheit(100, 'c'))    #contoh memanggil fungsi"
   ]
  },
  {
   "cell_type": "code",
   "execution_count": 52,
   "metadata": {},
   "outputs": [
    {
     "data": {
      "text/plain": [
       "((37.77777777777778, 'k'), (37.77777777777778, 'c'))"
      ]
     },
     "execution_count": 52,
     "metadata": {},
     "output_type": "execute_result"
    }
   ],
   "source": [
    "def convert_temp_from_fahrenheit(value):    #fungsi untuk convert suhu dari fahrenheit\n",
    "    result_kelvin=((value-32)*5/9,'k')   #hasil yang didapat kalau suhu kelvin (k)\n",
    "    result_celcius=((value-32)*5/9,'c') #hasil yang didapat kalau suhu celcius(c)\n",
    "    return result_kelvin,result_celcius #deklarasi hasil\n",
    "convert_temp_from_fahrenheit(100)   #contoh memanggil fungsi"
   ]
  }
 ],
 "metadata": {
  "interpreter": {
   "hash": "4181d9fb328bbf166f466aa6f04f4e3166fb024a3cd60775f70be704a670e92b"
  },
  "kernelspec": {
   "display_name": "Python 3.8.8 ('base')",
   "language": "python",
   "name": "python3"
  },
  "language_info": {
   "codemirror_mode": {
    "name": "ipython",
    "version": 3
   },
   "file_extension": ".py",
   "mimetype": "text/x-python",
   "name": "python",
   "nbconvert_exporter": "python",
   "pygments_lexer": "ipython3",
   "version": "3.8.8"
  },
  "orig_nbformat": 4
 },
 "nbformat": 4,
 "nbformat_minor": 2
}
