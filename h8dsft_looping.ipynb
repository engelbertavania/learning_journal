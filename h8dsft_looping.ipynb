{
 "cells": [
  {
   "cell_type": "code",
   "execution_count": 2,
   "metadata": {},
   "outputs": [],
   "source": [
    "numbers=[951, 402, 984, 651, 360, 69, 408, \n",
    "        319, 601, 485, 980, 507, 725, 547, 544, 615, \n",
    "        83, 165, 141, 501, 263, 617, 865, 575, 219,\n",
    "        390, 984, 592, 236, 105, 942, 941, 386, 462,\n",
    "        47, 418, 907, 344, 236, 375, 823, 566, 597,\n",
    "        978, 328, 615, 953, 345, 399, 162, 758, 219,\n",
    "        918, 237, 412, 566, 826, 248, 866, 950, 626, 949]"
   ]
  },
  {
   "cell_type": "code",
   "execution_count": 3,
   "metadata": {},
   "outputs": [
    {
     "name": "stdout",
     "output_type": "stream",
     "text": [
      "402\n",
      "360\n",
      "408\n",
      "544\n",
      "390\n",
      "592\n",
      "236\n",
      "386\n",
      "462\n",
      "418\n",
      "344\n",
      "236\n",
      "566\n",
      "328\n",
      "162\n",
      "758\n",
      "412\n",
      "566\n",
      "826\n",
      "248\n",
      "866\n",
      "626\n",
      "Done\n"
     ]
    }
   ],
   "source": [
    "for number in numbers:\n",
    "    if number %2==0 and number < 918:\n",
    "        print(number)\n",
    "print('Done')"
   ]
  },
  {
   "cell_type": "code",
   "execution_count": null,
   "metadata": {},
   "outputs": [],
   "source": []
  }
 ],
 "metadata": {
  "interpreter": {
   "hash": "4181d9fb328bbf166f466aa6f04f4e3166fb024a3cd60775f70be704a670e92b"
  },
  "kernelspec": {
   "display_name": "Python 3.8.8 ('base')",
   "language": "python",
   "name": "python3"
  },
  "language_info": {
   "codemirror_mode": {
    "name": "ipython",
    "version": 3
   },
   "file_extension": ".py",
   "mimetype": "text/x-python",
   "name": "python",
   "nbconvert_exporter": "python",
   "pygments_lexer": "ipython3",
   "version": "3.8.8"
  },
  "orig_nbformat": 4
 },
 "nbformat": 4,
 "nbformat_minor": 2
}
